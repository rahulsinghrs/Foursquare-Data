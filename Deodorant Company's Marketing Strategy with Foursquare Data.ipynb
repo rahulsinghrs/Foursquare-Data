{
 "cells": [
  {
   "cell_type": "markdown",
   "metadata": {},
   "source": [
    "### 1. Description of the problem and a discussion of the background.\n",
    "\n",
    "Company X is an Indian Company that specializes in selling personal care products such as deodorants, talcum, soaps, etc. The company had entered the deodorant market 3 years ago and has consistently had a saturated market share of 2%, in comparison to 2 other companies (Company A, and Company B) which entered the deodorant market at the same time as Company X. Companies A and B have had a consistent market share year on year growth of 1.6% (compared to company X which has had 0.1% year on year growth). The market leader (Company STAR) in the deodorant sector has  40% market share.\n",
    "\n",
    "The management of Company X is worried about its stagnant market share.\n",
    "\n",
    "The recent market surveys undertaken by an independent market analysis firm had revealed that brand awareness and brand perception are the major drivers of sales along with the pricing. Company X’s further investigations into the results had shown that their price points are comparable to those of the deodorants sold by Company A and B; however brand awareness and product perception (in terms of quality, long lasting effect, etc.) have a crucial role to play in market expansion. Company X has not invested muc in its marketing endeavors.\n",
    "\n",
    "Company X wants to increase its market penetration and brand awareness in the deodorant industry as a part of its marketing strategy. In order to do so, the Marketing Head wants to undertake an analysis which combines sales, brand awareness and brand perception of the company with most frequented locations/ venues in the city for ad placements in order to increase the impact of the marketing campaign."
   ]
  },
  {
   "cell_type": "markdown",
   "metadata": {},
   "source": [
    "### 2a. Description of the data\n",
    "\n",
    "Link https://github.com/rahulsinghrs/Coursera_Capstone/blob/master/Indian_cities.xlsx\n",
    "\n",
    "The dataset used for this task includes City wise details of deodorant sales, majority rating about the product and brand awareness score of the product. The master data has following variables (shown in bold text):\n",
    "\n",
    "*City*: area in which Company X is distributing its products\n",
    "\n",
    "*State*: region which the city belongs to in India\n",
    "\n",
    "*Latitude* and *Logitude*: location details of the distribution cities\n",
    "\n",
    "*Population*: number of people living in eachvcity\n",
    "\n",
    "*Zone*: shows Indian regional categorisation \n",
    "\n",
    "*Tier*: classification of Indian cities by Government of India on the basis of population and cost of living\n",
    "\n",
    "*Product_Unit_Sale_per_year*: Deodorant sales shhow the yearly unit sales of the product\n",
    "\n",
    "*Majority_rating_about_product*: categorical variable which reflects how the majority of the consumers whho use their product feel about the product (good, bad, or average) \n",
    "\n",
    "*Brand_awareness_score*: Reflects the awareness level of total population about the product- higher the awareness score, more the people in the city are aware about the product\n",
    "\n",
    "Furthermore, *Foursquare data* is used to get information on different local venues. \n",
    "\n",
    "***\n",
    "\n",
    "### 2b. How will the data be used? \n",
    "\n",
    "a. Foursquare data will be used to get top 5 venues in each city (assumption: higher number of venues are linked with a highher demand for that category which would reflect on highher footfall/ visits) \n",
    "b. Foursquare data is augmented with the sales, brand awareness and sentiment about the product (product). \n",
    "c. Unsupervised clustering approach would be used to segment the locations and maximum impact strategy for each venue will be assesed for each location. This will eventually provide recommendations about the marketing strategy (in particular where to place the ad; depending on the type of venue- the content of the ad which can be tailor made to create maximum impact).\n",
    "\n",
    "***\n",
    "\n",
    "### 2c. Source of data\n",
    "For latitude and longitude: https://simplemaps.com/data/in-cities\n",
    "For population, tier: https://data.gov.in/keywords/population\n",
    "For venue data in each region: https://developer.foursquare.com\n",
    "Sales, brand awareness data, public opinion data are randomly generated values as per the construct of the hypothetical business problem."
   ]
  },
  {
   "cell_type": "code",
   "execution_count": null,
   "metadata": {},
   "outputs": [],
   "source": []
  }
 ],
 "metadata": {
  "kernelspec": {
   "display_name": "Python 3",
   "language": "python",
   "name": "python3"
  },
  "language_info": {
   "codemirror_mode": {
    "name": "ipython",
    "version": 3
   },
   "file_extension": ".py",
   "mimetype": "text/x-python",
   "name": "python",
   "nbconvert_exporter": "python",
   "pygments_lexer": "ipython3",
   "version": "3.6.8"
  }
 },
 "nbformat": 4,
 "nbformat_minor": 2
}
